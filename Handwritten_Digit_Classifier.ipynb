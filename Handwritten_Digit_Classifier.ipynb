{
  "nbformat": 4,
  "nbformat_minor": 0,
  "metadata": {
    "colab": {
      "name": "Handwritten Digit Classifier.ipynb",
      "provenance": [],
      "collapsed_sections": []
    },
    "kernelspec": {
      "name": "python3",
      "display_name": "Python 3"
    }
  },
  "cells": [
    {
      "cell_type": "markdown",
      "metadata": {
        "id": "4o7BzQRkzUlw"
      },
      "source": [
        "# **Handwritten Digit Classifier**\r\n",
        "In my first personal project for machine learning, I developed a convolutional neural network for the classification of the handwritten digits. The model is trained using the MNIST database containing 60,000 images of handwritten digits. \r\n",
        "\r\n",
        "This project is done as part of the fast.ai course \"Practical Deep Learning for Coders\" and uses certain functions from the fastai library. However, for learning purposes, the neural network is built from scratch to fully understand how a model is created and trained."
      ]
    },
    {
      "cell_type": "code",
      "metadata": {
        "id": "QbKiILFhVEae"
      },
      "source": [
        "!pip install -Uqq fastbook\r\n",
        "import fastbook\r\n",
        "fastbook.setup_book()"
      ],
      "execution_count": null,
      "outputs": []
    },
    {
      "cell_type": "code",
      "metadata": {
        "id": "lTh8JLMngfOD"
      },
      "source": [
        "from fastai.vision.all import *\r\n",
        "from fastbook import *\r\n",
        "\r\n",
        "matplotlib.rc('image', cmap='Greys')"
      ],
      "execution_count": null,
      "outputs": []
    },
    {
      "cell_type": "markdown",
      "metadata": {
        "id": "jsM8Q0GmYV_j"
      },
      "source": [
        "# MNIST Dataset\r\n",
        "The MNIST dataset contains 60,000  images of handwritten digits. For each digit from 0 to 9, the images are that are taken from the training set are combined into a rank-3 tensor. All of the images are then organized in a dictionary with the digit as the key and the rank-3 tensor as the value.\r\n",
        "\r\n",
        "To visualize the entire dataset, the mean of all images for each digit is displayed, representing the \"ideal\" digit. "
      ]
    },
    {
      "cell_type": "code",
      "metadata": {
        "id": "2IYOeUumhFyG"
      },
      "source": [
        "path = untar_data(URLs.MNIST)"
      ],
      "execution_count": null,
      "outputs": []
    },
    {
      "cell_type": "code",
      "metadata": {
        "id": "xQcnR4-chdKD"
      },
      "source": [
        "Path.BASE_PATH = path"
      ],
      "execution_count": null,
      "outputs": []
    },
    {
      "cell_type": "code",
      "metadata": {
        "colab": {
          "base_uri": "https://localhost:8080/"
        },
        "id": "nh4es_AYhf0m",
        "outputId": "ca9dba86-f1cf-47aa-9827-e81082e0659d"
      },
      "source": [
        "path.ls()"
      ],
      "execution_count": null,
      "outputs": [
        {
          "output_type": "execute_result",
          "data": {
            "text/plain": [
              "(#2) [Path('testing'),Path('training')]"
            ]
          },
          "metadata": {
            "tags": []
          },
          "execution_count": 83
        }
      ]
    },
    {
      "cell_type": "code",
      "metadata": {
        "colab": {
          "base_uri": "https://localhost:8080/"
        },
        "id": "qlth-rothjQo",
        "outputId": "1acfc0c0-15c9-48e7-ff4e-10f4271b49e7"
      },
      "source": [
        "(path/'training').ls()"
      ],
      "execution_count": null,
      "outputs": [
        {
          "output_type": "execute_result",
          "data": {
            "text/plain": [
              "(#10) [Path('training/5'),Path('training/7'),Path('training/9'),Path('training/6'),Path('training/0'),Path('training/4'),Path('training/3'),Path('training/1'),Path('training/8'),Path('training/2')]"
            ]
          },
          "metadata": {
            "tags": []
          },
          "execution_count": 84
        }
      ]
    },
    {
      "cell_type": "code",
      "metadata": {
        "id": "ecvVe4u2idc8"
      },
      "source": [
        "fns = {i: [fn for fn in (path/f'training/{i}').ls()] for i in range(10)}\r\n",
        "img_tensors = {key: [tensor(Image.open(imagepath)) for imagepath in paths] for (key,paths) in fns.items()}\r\n",
        "stacked_digits = {key: torch.stack(digit).float()/255 for (key,digit) in img_tensors.items()}"
      ],
      "execution_count": null,
      "outputs": []
    },
    {
      "cell_type": "code",
      "metadata": {
        "id": "RfqtumAKycxr"
      },
      "source": [
        "mean_tensors = {key: img.mean(0) for (key,img) in stacked_digits.items()}"
      ],
      "execution_count": null,
      "outputs": []
    },
    {
      "cell_type": "code",
      "metadata": {
        "colab": {
          "base_uri": "https://localhost:8080/",
          "height": 148
        },
        "id": "Ycs21GM4yv0I",
        "outputId": "eff5aa0b-e641-46ab-ab30-bc9adea1e75a"
      },
      "source": [
        "show_images(list(mean_tensors.values()))"
      ],
      "execution_count": null,
      "outputs": [
        {
          "output_type": "display_data",
          "data": {
            "image/png": "[encoded data removed]",
            "text/plain": [
              "<Figure size 2160x216 with 10 Axes>"
            ]
          },
          "metadata": {
            "tags": [],
            "needs_background": "light"
          }
        }
      ]
    },
    {
      "cell_type": "markdown",
      "metadata": {
        "id": "mpN31gFv75ub"
      },
      "source": [
        "The same dictionary of rank-3 tensors is created for the validation set."
      ]
    },
    {
      "cell_type": "code",
      "metadata": {
        "id": "6cFPuI1s9l8P"
      },
      "source": [
        "valid_fns = {i: [fn for fn in (path/f'testing/{i}').ls()] for i in range(10)}\r\n",
        "valid_img_tensors = {key: [tensor(Image.open(imagepath)) for imagepath in paths] for (key,paths) in valid_fns.items()}\r\n",
        "valid_stacked_digits = {key: torch.stack(digit).float()/255 for (key,digit) in valid_img_tensors.items()}"
      ],
      "execution_count": null,
      "outputs": []
    },
    {
      "cell_type": "markdown",
      "metadata": {
        "id": "oiCnSVo0A2YN"
      },
      "source": [
        "# Training the Model\r\n",
        "Stochastic gradient descent is implemented to train the model. The independent variable x is the images concatenated into a single rank-2 tensor and the dependent variable y is the labels. \r\n",
        "\r\n"
      ]
    },
    {
      "cell_type": "code",
      "metadata": {
        "id": "rBxNDbXN9bMg"
      },
      "source": [
        "train_x = torch.cat([digit for digit in stacked_digits.values()]).view(-1, 28*28)"
      ],
      "execution_count": null,
      "outputs": []
    },
    {
      "cell_type": "code",
      "metadata": {
        "id": "IZXdn1rP6__0"
      },
      "source": [
        "def create_label(rows, columns, index):\r\n",
        "  labels = torch.zeros((rows,columns))\r\n",
        "  labels[:,index] = 1\r\n",
        "  return labels\r\n"
      ],
      "execution_count": null,
      "outputs": []
    },
    {
      "cell_type": "code",
      "metadata": {
        "id": "qjWOv1q-8aPI"
      },
      "source": [
        "stacked_labels = {key: create_label(tensors.shape[0], len(stacked_digits), key) for (key,tensors) in stacked_digits.items()}"
      ],
      "execution_count": null,
      "outputs": []
    },
    {
      "cell_type": "code",
      "metadata": {
        "colab": {
          "base_uri": "https://localhost:8080/"
        },
        "id": "y3hZgAe69QQ0",
        "outputId": "40aeb686-929d-4d68-f6a3-fb829ce2cc39"
      },
      "source": [
        "train_y = torch.cat([label for label in stacked_labels.values()])\r\n",
        "train_y.shape"
      ],
      "execution_count": null,
      "outputs": [
        {
          "output_type": "execute_result",
          "data": {
            "text/plain": [
              "torch.Size([60000, 10])"
            ]
          },
          "metadata": {
            "tags": []
          },
          "execution_count": 93
        }
      ]
    },
    {
      "cell_type": "code",
      "metadata": {
        "id": "vyPNgquY-kVO"
      },
      "source": [
        "valid_x = torch.cat([digit for digit in valid_stacked_digits.values()]).view(-1, 28*28)\r\n",
        "valid_stacked_labels = {key: create_label(tensors.shape[0], len(valid_stacked_digits), key) for (key,tensors) in valid_stacked_digits.items()}\r\n",
        "valid_y = torch.cat([label for label in valid_stacked_labels.values()])"
      ],
      "execution_count": null,
      "outputs": []
    },
    {
      "cell_type": "code",
      "metadata": {
        "id": "Dy_Gjmfp-65j"
      },
      "source": [
        "dset = list(zip(train_x,train_y))\r\n",
        "valid_dset = list(zip(valid_x,valid_y))"
      ],
      "execution_count": null,
      "outputs": []
    },
    {
      "cell_type": "code",
      "metadata": {
        "id": "U3NVe-uMBONR"
      },
      "source": [
        "dl = DataLoader(dset, batch_size=256)\r\n",
        "valid_dl = DataLoader(valid_dset, batch_size=256)"
      ],
      "execution_count": null,
      "outputs": []
    },
    {
      "cell_type": "markdown",
      "metadata": {
        "id": "UZm94JxoDVim"
      },
      "source": [
        "The cross entropy loss function is used to measure the performance of the model."
      ]
    },
    {
      "cell_type": "code",
      "metadata": {
        "id": "rPzLxtsoM4KX"
      },
      "source": [
        "def mnist_loss(predictions, targets):\r\n",
        "  predictions = predictions.softmax(dim=1)\r\n",
        "  loss = -(targets * predictions.log()).sum() / len(predictions)\r\n",
        "  return loss"
      ],
      "execution_count": null,
      "outputs": []
    },
    {
      "cell_type": "code",
      "metadata": {
        "id": "lF48nbWoPOUW"
      },
      "source": [
        "def init_params(size, std=1.0):\r\n",
        "  return (torch.randn(size)*std).requires_grad_()"
      ],
      "execution_count": null,
      "outputs": []
    },
    {
      "cell_type": "code",
      "metadata": {
        "id": "Z-WuqEy8PlyZ"
      },
      "source": [
        "weights = init_params((28*28,10))\r\n",
        "bias = init_params(1)"
      ],
      "execution_count": null,
      "outputs": []
    },
    {
      "cell_type": "code",
      "metadata": {
        "id": "8z806sd3RyzE"
      },
      "source": [
        "def linear1(xb): return xb@weights + bias"
      ],
      "execution_count": null,
      "outputs": []
    },
    {
      "cell_type": "code",
      "metadata": {
        "id": "xPOVQlD1TWNT"
      },
      "source": [
        "xb,yb = first(dl)\r\n",
        "preds = linear1(xb)\r\n",
        "loss = mnist_loss(preds, yb)"
      ],
      "execution_count": null,
      "outputs": []
    },
    {
      "cell_type": "code",
      "metadata": {
        "id": "wn2pRPghVfnc"
      },
      "source": [
        "def calc_grad(xb, yb, model):\r\n",
        "  preds = model(xb)\r\n",
        "  loss = mnist_loss(preds, yb)\r\n",
        "  loss.backward()"
      ],
      "execution_count": null,
      "outputs": []
    },
    {
      "cell_type": "code",
      "metadata": {
        "id": "fF5k2lkeV1NG"
      },
      "source": [
        "def train_epoch(model, lr, params):\r\n",
        "  for xb, yb in dl:\r\n",
        "    calc_grad(xb, yb, model)\r\n",
        "    for p in params:\r\n",
        "      p.data -= p.grad*lr\r\n",
        "      p.grad.zero_()"
      ],
      "execution_count": null,
      "outputs": []
    },
    {
      "cell_type": "markdown",
      "metadata": {
        "id": "v8sSXtuVECK2"
      },
      "source": [
        "The model returns 10 predictions which correspond to the probability of an image belonging to every digit class. The maximum probability is thus the prediction of the model. The accuracy is determined by checking if the prediction matches the target."
      ]
    },
    {
      "cell_type": "code",
      "metadata": {
        "id": "0_3aC5SkWYM8"
      },
      "source": [
        "def batch_accuracy(predictions, targets):\r\n",
        "    predictions = predictions.softmax(dim=1)\r\n",
        "    predictions_i = predictions.max(1).indices\r\n",
        "    targets_i = targets.max(1).indices\r\n",
        "    return (predictions_i == targets_i).float().mean()"
      ],
      "execution_count": null,
      "outputs": []
    },
    {
      "cell_type": "code",
      "metadata": {
        "id": "XAUkoDJiYcRx"
      },
      "source": [
        "def validate_epoch(model):\r\n",
        "    accs = [batch_accuracy(model(xb), yb) for xb,yb in valid_dl]\r\n",
        "    return round(torch.stack(accs).mean().item(), 4)"
      ],
      "execution_count": null,
      "outputs": []
    },
    {
      "cell_type": "code",
      "metadata": {
        "id": "eygg_4Uy0MN9"
      },
      "source": [
        "dls = DataLoaders(dl, valid_dl)"
      ],
      "execution_count": null,
      "outputs": []
    },
    {
      "cell_type": "markdown",
      "metadata": {
        "id": "TOPFDA7wHzJW"
      },
      "source": [
        "Nonlinearity is added between two linear layers, which makes our neural network. This is a rectified linear unit, which replaces every negative value with a zero. "
      ]
    },
    {
      "cell_type": "code",
      "metadata": {
        "id": "43xSXja-2AiY"
      },
      "source": [
        "simple_net = nn.Sequential(\r\n",
        "    nn.Linear(28*28,128),\r\n",
        "    nn.ReLU(),\r\n",
        "    nn.Linear(128,10)\r\n",
        ")"
      ],
      "execution_count": null,
      "outputs": []
    },
    {
      "cell_type": "code",
      "metadata": {
        "id": "jFmtBN2H0QjS"
      },
      "source": [
        "learn = Learner(dls, simple_net, opt_func=SGD, loss_func=mnist_loss, metrics=batch_accuracy)"
      ],
      "execution_count": null,
      "outputs": []
    },
    {
      "cell_type": "markdown",
      "metadata": {
        "id": "aqNS3pR5IfIA"
      },
      "source": [
        "The model is complete. 60 epochs with a learning rate of 0.001 yields an accuracy of 86.54%. The full results are shown in the table below. "
      ]
    },
    {
      "cell_type": "code",
      "metadata": {
        "colab": {
          "base_uri": "https://localhost:8080/",
          "height": 1000
        },
        "id": "MQetDZjr0ews",
        "outputId": "37ce5598-a0b8-49cc-eb81-bc1bfe3c7b7b"
      },
      "source": [
        "learn.fit(60, 0.001)"
      ],
      "execution_count": null,
      "outputs": [
        {
          "output_type": "display_data",
          "data": {
            "text/html": [
              "<table border=\"1\" class=\"dataframe\">\n",
              "  <thead>\n",
              "    <tr style=\"text-align: left;\">\n",
              "      <th>epoch</th>\n",
              "      <th>train_loss</th>\n",
              "      <th>valid_loss</th>\n",
              "      <th>batch_accuracy</th>\n",
              "      <th>time</th>\n",
              "    </tr>\n",
              "  </thead>\n",
              "  <tbody>\n",
              "    <tr>\n",
              "      <td>0</td>\n",
              "      <td>2.358382</td>\n",
              "      <td>2.279210</td>\n",
              "      <td>0.148500</td>\n",
              "      <td>00:02</td>\n",
              "    </tr>\n",
              "    <tr>\n",
              "      <td>1</td>\n",
              "      <td>2.322724</td>\n",
              "      <td>2.242783</td>\n",
              "      <td>0.254100</td>\n",
              "      <td>00:01</td>\n",
              "    </tr>\n",
              "    <tr>\n",
              "      <td>2</td>\n",
              "      <td>2.287781</td>\n",
              "      <td>2.203944</td>\n",
              "      <td>0.393600</td>\n",
              "      <td>00:01</td>\n",
              "    </tr>\n",
              "    <tr>\n",
              "      <td>3</td>\n",
              "      <td>2.251134</td>\n",
              "      <td>2.161121</td>\n",
              "      <td>0.526100</td>\n",
              "      <td>00:01</td>\n",
              "    </tr>\n",
              "    <tr>\n",
              "      <td>4</td>\n",
              "      <td>2.210732</td>\n",
              "      <td>2.113471</td>\n",
              "      <td>0.600000</td>\n",
              "      <td>00:01</td>\n",
              "    </tr>\n",
              "    <tr>\n",
              "      <td>5</td>\n",
              "      <td>2.165181</td>\n",
              "      <td>2.060539</td>\n",
              "      <td>0.650600</td>\n",
              "      <td>00:01</td>\n",
              "    </tr>\n",
              "    <tr>\n",
              "      <td>6</td>\n",
              "      <td>2.114166</td>\n",
              "      <td>2.001935</td>\n",
              "      <td>0.677400</td>\n",
              "      <td>00:01</td>\n",
              "    </tr>\n",
              "    <tr>\n",
              "      <td>7</td>\n",
              "      <td>2.057389</td>\n",
              "      <td>1.937633</td>\n",
              "      <td>0.692200</td>\n",
              "      <td>00:01</td>\n",
              "    </tr>\n",
              "    <tr>\n",
              "      <td>8</td>\n",
              "      <td>1.995081</td>\n",
              "      <td>1.868239</td>\n",
              "      <td>0.700700</td>\n",
              "      <td>00:01</td>\n",
              "    </tr>\n",
              "    <tr>\n",
              "      <td>9</td>\n",
              "      <td>1.927819</td>\n",
              "      <td>1.794782</td>\n",
              "      <td>0.704800</td>\n",
              "      <td>00:01</td>\n",
              "    </tr>\n",
              "    <tr>\n",
              "      <td>10</td>\n",
              "      <td>1.856632</td>\n",
              "      <td>1.718638</td>\n",
              "      <td>0.707600</td>\n",
              "      <td>00:01</td>\n",
              "    </tr>\n",
              "    <tr>\n",
              "      <td>11</td>\n",
              "      <td>1.782761</td>\n",
              "      <td>1.641272</td>\n",
              "      <td>0.711300</td>\n",
              "      <td>00:01</td>\n",
              "    </tr>\n",
              "    <tr>\n",
              "      <td>12</td>\n",
              "      <td>1.707641</td>\n",
              "      <td>1.564167</td>\n",
              "      <td>0.712100</td>\n",
              "      <td>00:01</td>\n",
              "    </tr>\n",
              "    <tr>\n",
              "      <td>13</td>\n",
              "      <td>1.632769</td>\n",
              "      <td>1.488741</td>\n",
              "      <td>0.712800</td>\n",
              "      <td>00:01</td>\n",
              "    </tr>\n",
              "    <tr>\n",
              "      <td>14</td>\n",
              "      <td>1.559519</td>\n",
              "      <td>1.416158</td>\n",
              "      <td>0.714600</td>\n",
              "      <td>00:01</td>\n",
              "    </tr>\n",
              "    <tr>\n",
              "      <td>15</td>\n",
              "      <td>1.489038</td>\n",
              "      <td>1.347287</td>\n",
              "      <td>0.718800</td>\n",
              "      <td>00:01</td>\n",
              "    </tr>\n",
              "    <tr>\n",
              "      <td>16</td>\n",
              "      <td>1.422155</td>\n",
              "      <td>1.282678</td>\n",
              "      <td>0.723300</td>\n",
              "      <td>00:01</td>\n",
              "    </tr>\n",
              "    <tr>\n",
              "      <td>17</td>\n",
              "      <td>1.359430</td>\n",
              "      <td>1.222612</td>\n",
              "      <td>0.728600</td>\n",
              "      <td>00:01</td>\n",
              "    </tr>\n",
              "    <tr>\n",
              "      <td>18</td>\n",
              "      <td>1.301047</td>\n",
              "      <td>1.167143</td>\n",
              "      <td>0.735500</td>\n",
              "      <td>00:01</td>\n",
              "    </tr>\n",
              "    <tr>\n",
              "      <td>19</td>\n",
              "      <td>1.247037</td>\n",
              "      <td>1.116142</td>\n",
              "      <td>0.741000</td>\n",
              "      <td>00:01</td>\n",
              "    </tr>\n",
              "    <tr>\n",
              "      <td>20</td>\n",
              "      <td>1.197205</td>\n",
              "      <td>1.069400</td>\n",
              "      <td>0.747700</td>\n",
              "      <td>00:01</td>\n",
              "    </tr>\n",
              "    <tr>\n",
              "      <td>21</td>\n",
              "      <td>1.151307</td>\n",
              "      <td>1.026618</td>\n",
              "      <td>0.754300</td>\n",
              "      <td>00:01</td>\n",
              "    </tr>\n",
              "    <tr>\n",
              "      <td>22</td>\n",
              "      <td>1.109042</td>\n",
              "      <td>0.987478</td>\n",
              "      <td>0.760700</td>\n",
              "      <td>00:01</td>\n",
              "    </tr>\n",
              "    <tr>\n",
              "      <td>23</td>\n",
              "      <td>1.070129</td>\n",
              "      <td>0.951649</td>\n",
              "      <td>0.766800</td>\n",
              "      <td>00:01</td>\n",
              "    </tr>\n",
              "    <tr>\n",
              "      <td>24</td>\n",
              "      <td>1.034290</td>\n",
              "      <td>0.918821</td>\n",
              "      <td>0.773000</td>\n",
              "      <td>00:02</td>\n",
              "    </tr>\n",
              "    <tr>\n",
              "      <td>25</td>\n",
              "      <td>1.001255</td>\n",
              "      <td>0.888688</td>\n",
              "      <td>0.778000</td>\n",
              "      <td>00:02</td>\n",
              "    </tr>\n",
              "    <tr>\n",
              "      <td>26</td>\n",
              "      <td>0.970729</td>\n",
              "      <td>0.860983</td>\n",
              "      <td>0.784300</td>\n",
              "      <td>00:02</td>\n",
              "    </tr>\n",
              "    <tr>\n",
              "      <td>27</td>\n",
              "      <td>0.942511</td>\n",
              "      <td>0.835449</td>\n",
              "      <td>0.789400</td>\n",
              "      <td>00:01</td>\n",
              "    </tr>\n",
              "    <tr>\n",
              "      <td>28</td>\n",
              "      <td>0.916376</td>\n",
              "      <td>0.811870</td>\n",
              "      <td>0.794500</td>\n",
              "      <td>00:01</td>\n",
              "    </tr>\n",
              "    <tr>\n",
              "      <td>29</td>\n",
              "      <td>0.892118</td>\n",
              "      <td>0.790049</td>\n",
              "      <td>0.797900</td>\n",
              "      <td>00:01</td>\n",
              "    </tr>\n",
              "    <tr>\n",
              "      <td>30</td>\n",
              "      <td>0.869566</td>\n",
              "      <td>0.769806</td>\n",
              "      <td>0.801800</td>\n",
              "      <td>00:01</td>\n",
              "    </tr>\n",
              "    <tr>\n",
              "      <td>31</td>\n",
              "      <td>0.848576</td>\n",
              "      <td>0.750985</td>\n",
              "      <td>0.805500</td>\n",
              "      <td>00:01</td>\n",
              "    </tr>\n",
              "    <tr>\n",
              "      <td>32</td>\n",
              "      <td>0.828993</td>\n",
              "      <td>0.733453</td>\n",
              "      <td>0.809200</td>\n",
              "      <td>00:01</td>\n",
              "    </tr>\n",
              "    <tr>\n",
              "      <td>33</td>\n",
              "      <td>0.810692</td>\n",
              "      <td>0.717083</td>\n",
              "      <td>0.812200</td>\n",
              "      <td>00:01</td>\n",
              "    </tr>\n",
              "    <tr>\n",
              "      <td>34</td>\n",
              "      <td>0.793562</td>\n",
              "      <td>0.701762</td>\n",
              "      <td>0.816300</td>\n",
              "      <td>00:01</td>\n",
              "    </tr>\n",
              "    <tr>\n",
              "      <td>35</td>\n",
              "      <td>0.777499</td>\n",
              "      <td>0.687399</td>\n",
              "      <td>0.819600</td>\n",
              "      <td>00:01</td>\n",
              "    </tr>\n",
              "    <tr>\n",
              "      <td>36</td>\n",
              "      <td>0.762410</td>\n",
              "      <td>0.673904</td>\n",
              "      <td>0.822300</td>\n",
              "      <td>00:01</td>\n",
              "    </tr>\n",
              "    <tr>\n",
              "      <td>37</td>\n",
              "      <td>0.748220</td>\n",
              "      <td>0.661200</td>\n",
              "      <td>0.824700</td>\n",
              "      <td>00:01</td>\n",
              "    </tr>\n",
              "    <tr>\n",
              "      <td>38</td>\n",
              "      <td>0.734840</td>\n",
              "      <td>0.649224</td>\n",
              "      <td>0.827700</td>\n",
              "      <td>00:01</td>\n",
              "    </tr>\n",
              "    <tr>\n",
              "      <td>39</td>\n",
              "      <td>0.722217</td>\n",
              "      <td>0.637913</td>\n",
              "      <td>0.830500</td>\n",
              "      <td>00:01</td>\n",
              "    </tr>\n",
              "    <tr>\n",
              "      <td>40</td>\n",
              "      <td>0.710292</td>\n",
              "      <td>0.627212</td>\n",
              "      <td>0.832900</td>\n",
              "      <td>00:01</td>\n",
              "    </tr>\n",
              "    <tr>\n",
              "      <td>41</td>\n",
              "      <td>0.699003</td>\n",
              "      <td>0.617075</td>\n",
              "      <td>0.835400</td>\n",
              "      <td>00:01</td>\n",
              "    </tr>\n",
              "    <tr>\n",
              "      <td>42</td>\n",
              "      <td>0.688309</td>\n",
              "      <td>0.607456</td>\n",
              "      <td>0.838200</td>\n",
              "      <td>00:01</td>\n",
              "    </tr>\n",
              "    <tr>\n",
              "      <td>43</td>\n",
              "      <td>0.678155</td>\n",
              "      <td>0.598323</td>\n",
              "      <td>0.840200</td>\n",
              "      <td>00:02</td>\n",
              "    </tr>\n",
              "    <tr>\n",
              "      <td>44</td>\n",
              "      <td>0.668510</td>\n",
              "      <td>0.589634</td>\n",
              "      <td>0.841500</td>\n",
              "      <td>00:01</td>\n",
              "    </tr>\n",
              "    <tr>\n",
              "      <td>45</td>\n",
              "      <td>0.659338</td>\n",
              "      <td>0.581359</td>\n",
              "      <td>0.842400</td>\n",
              "      <td>00:01</td>\n",
              "    </tr>\n",
              "    <tr>\n",
              "      <td>46</td>\n",
              "      <td>0.650600</td>\n",
              "      <td>0.573471</td>\n",
              "      <td>0.844100</td>\n",
              "      <td>00:01</td>\n",
              "    </tr>\n",
              "    <tr>\n",
              "      <td>47</td>\n",
              "      <td>0.642270</td>\n",
              "      <td>0.565941</td>\n",
              "      <td>0.846100</td>\n",
              "      <td>00:01</td>\n",
              "    </tr>\n",
              "    <tr>\n",
              "      <td>48</td>\n",
              "      <td>0.634323</td>\n",
              "      <td>0.558747</td>\n",
              "      <td>0.847400</td>\n",
              "      <td>00:01</td>\n",
              "    </tr>\n",
              "    <tr>\n",
              "      <td>49</td>\n",
              "      <td>0.626727</td>\n",
              "      <td>0.551868</td>\n",
              "      <td>0.849200</td>\n",
              "      <td>00:01</td>\n",
              "    </tr>\n",
              "    <tr>\n",
              "      <td>50</td>\n",
              "      <td>0.619465</td>\n",
              "      <td>0.545283</td>\n",
              "      <td>0.851300</td>\n",
              "      <td>00:01</td>\n",
              "    </tr>\n",
              "    <tr>\n",
              "      <td>51</td>\n",
              "      <td>0.612514</td>\n",
              "      <td>0.538974</td>\n",
              "      <td>0.852700</td>\n",
              "      <td>00:01</td>\n",
              "    </tr>\n",
              "    <tr>\n",
              "      <td>52</td>\n",
              "      <td>0.605856</td>\n",
              "      <td>0.532924</td>\n",
              "      <td>0.854400</td>\n",
              "      <td>00:01</td>\n",
              "    </tr>\n",
              "    <tr>\n",
              "      <td>53</td>\n",
              "      <td>0.599474</td>\n",
              "      <td>0.527119</td>\n",
              "      <td>0.856000</td>\n",
              "      <td>00:01</td>\n",
              "    </tr>\n",
              "    <tr>\n",
              "      <td>54</td>\n",
              "      <td>0.593352</td>\n",
              "      <td>0.521544</td>\n",
              "      <td>0.857400</td>\n",
              "      <td>00:01</td>\n",
              "    </tr>\n",
              "    <tr>\n",
              "      <td>55</td>\n",
              "      <td>0.587471</td>\n",
              "      <td>0.516189</td>\n",
              "      <td>0.858700</td>\n",
              "      <td>00:01</td>\n",
              "    </tr>\n",
              "    <tr>\n",
              "      <td>56</td>\n",
              "      <td>0.581815</td>\n",
              "      <td>0.511039</td>\n",
              "      <td>0.860400</td>\n",
              "      <td>00:01</td>\n",
              "    </tr>\n",
              "    <tr>\n",
              "      <td>57</td>\n",
              "      <td>0.576378</td>\n",
              "      <td>0.506080</td>\n",
              "      <td>0.861800</td>\n",
              "      <td>00:01</td>\n",
              "    </tr>\n",
              "    <tr>\n",
              "      <td>58</td>\n",
              "      <td>0.571142</td>\n",
              "      <td>0.501307</td>\n",
              "      <td>0.864000</td>\n",
              "      <td>00:01</td>\n",
              "    </tr>\n",
              "    <tr>\n",
              "      <td>59</td>\n",
              "      <td>0.566097</td>\n",
              "      <td>0.496708</td>\n",
              "      <td>0.865400</td>\n",
              "      <td>00:01</td>\n",
              "    </tr>\n",
              "  </tbody>\n",
              "</table>"
            ],
            "text/plain": [
              "<IPython.core.display.HTML object>"
            ]
          },
          "metadata": {
            "tags": []
          }
        }
      ]
    },
    {
      "cell_type": "markdown",
      "metadata": {
        "id": "rK2O_j5xJFYe"
      },
      "source": [
        "# Furthering the Project\r\n",
        "The accuracy of the model can be increased by experimenting with a different number of epochs and a different learning rate. A different loss function can be also be used. \r\n",
        "\r\n",
        "To move the model into production, the model can be turned into a simple web application where the user can upload a series of handwritten digits to obtain the predictions of the model as the output."
      ]
    }
  ]
}